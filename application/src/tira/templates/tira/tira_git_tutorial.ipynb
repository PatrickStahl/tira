{
 "cells": [
  {
   "cell_type": "code",
   "execution_count": 1,
   "id": "8df1799f-ed55-4bc9-8009-da8f85f93a38",
   "metadata": {},
   "outputs": [
    {
     "data": {
      "text/html": [
       "<div>\n",
       "<style scoped>\n",
       "    .dataframe tbody tr th:only-of-type {\n",
       "        vertical-align: middle;\n",
       "    }\n",
       "\n",
       "    .dataframe tbody tr th {\n",
       "        vertical-align: top;\n",
       "    }\n",
       "\n",
       "    .dataframe thead th {\n",
       "        text-align: right;\n",
       "    }\n",
       "</style>\n",
       "<table border=\"1\" class=\"dataframe\">\n",
       "  <thead>\n",
       "    <tr style=\"text-align: right;\">\n",
       "      <th></th>\n",
       "      <th>uuid</th>\n",
       "      <th>postText</th>\n",
       "      <th>targetParagraphs</th>\n",
       "      <th>targetTitle</th>\n",
       "      <th>spoiler</th>\n",
       "    </tr>\n",
       "  </thead>\n",
       "  <tbody>\n",
       "    <tr>\n",
       "      <th>0</th>\n",
       "      <td>example-1</td>\n",
       "      <td>[This \"Star Wars\" theory about Rey will blow your mind]</td>\n",
       "      <td>[But a new theory has awakened: that Rey is in fact Emperor Palpatine's granddaughter.]</td>\n",
       "      <td>This \"Star Wars\" Theory About Rey Is Insane</td>\n",
       "      <td>[that Rey is in fact Emperor Palpatine's granddaughter]</td>\n",
       "    </tr>\n",
       "    <tr>\n",
       "      <th>1</th>\n",
       "      <td>example-2</td>\n",
       "      <td>[J.K. Rowling has revealed a heartbreaking truth about Hagrid]</td>\n",
       "      <td>[Rowling's response may point to the fact that the spell is simply too difficult for Hagrid, who was expelled from Hogwarts as a teenager, to perform. But fans were also worried that the lovable half-giant, abandoned by his mother as a child, may just not have enough happy memories to produce a Patronus. Oh, Hagrid!]</td>\n",
       "      <td>J.K. Rowling Has Revealed A Heartbreaking Truth About Hagrid</td>\n",
       "      <td>not have enough happy memories to produce a Patronus</td>\n",
       "    </tr>\n",
       "  </tbody>\n",
       "</table>\n",
       "</div>"
      ],
      "text/plain": [
       "        uuid                                                        postText  \\\n",
       "0  example-1  [This \"Star Wars\" theory about Rey will blow your mind]          \n",
       "1  example-2  [J.K. Rowling has revealed a heartbreaking truth about Hagrid]   \n",
       "\n",
       "                                                                                                                                                                                                                                                                                                                 targetParagraphs  \\\n",
       "0  [But a new theory has awakened: that Rey is in fact Emperor Palpatine's granddaughter.]                                                                                                                                                                                                                                          \n",
       "1  [Rowling's response may point to the fact that the spell is simply too difficult for Hagrid, who was expelled from Hogwarts as a teenager, to perform. But fans were also worried that the lovable half-giant, abandoned by his mother as a child, may just not have enough happy memories to produce a Patronus. Oh, Hagrid!]   \n",
       "\n",
       "                                                    targetTitle  \\\n",
       "0  This \"Star Wars\" Theory About Rey Is Insane                    \n",
       "1  J.K. Rowling Has Revealed A Heartbreaking Truth About Hagrid   \n",
       "\n",
       "                                                   spoiler  \n",
       "0  [that Rey is in fact Emperor Palpatine's granddaughter]  \n",
       "1  not have enough happy memories to produce a Patronus     "
      ]
     },
     "execution_count": 1,
     "metadata": {},
     "output_type": "execute_result"
    }
   ],
   "source": [
    "import pandas as pd\n",
    "!cp /home/maik/workspace/tira/application/src/tira/templates/tira/tira_git_cmd.py tira.py\n",
    "import tira\n",
    "pd.set_option('display.max_colwidth', 0)\n",
    "\n",
    "df = pd.DataFrame([\n",
    "    {\"uuid\": \"example-1\", \"postText\": [\"This \\\"Star Wars\\\" theory about Rey will blow your mind\"], \"targetParagraphs\": [\"But a new theory has awakened: that Rey is in fact Emperor Palpatine's granddaughter.\"], \"targetTitle\": \"This \\\"Star Wars\\\" Theory About Rey Is Insane\", \"spoiler\": [\"that Rey is in fact Emperor Palpatine's granddaughter\"]},\n",
    "    {\"uuid\": \"example-2\", \"postText\": [\"J.K. Rowling has revealed a heartbreaking truth about Hagrid\"], \"targetTitle\": \"J.K. Rowling Has Revealed A Heartbreaking Truth About Hagrid\",  \"targetParagraphs\": [\"Rowling's response may point to the fact that the spell is simply too difficult for Hagrid, who was expelled from Hogwarts as a teenager, to perform. But fans were also worried that the lovable half-giant, abandoned by his mother as a child, may just not have enough happy memories to produce a Patronus. Oh, Hagrid!\"], \"spoiler\": \"not have enough happy memories to produce a Patronus\"},\n",
    "])\n",
    "\n",
    "df"
   ]
  },
  {
   "cell_type": "code",
   "execution_count": null,
   "id": "3079cc18-3df0-4694-8d61-c21623f88c15",
   "metadata": {},
   "outputs": [],
   "source": [
    "- Show evaluation results\n",
    "- run existing approach on manipulated data: Remove Posttext\n",
    "- Run new approach on existing data (e.g., oracle, ...)\n",
    "\n",
    "- Run existing approaches on different data."
   ]
  },
  {
   "cell_type": "code",
   "execution_count": 2,
   "id": "b5650884-a29d-434c-91ef-2f41b46954ae",
   "metadata": {},
   "outputs": [
    {
     "data": {
      "text/html": [
       "<div>\n",
       "<style scoped>\n",
       "    .dataframe tbody tr th:only-of-type {\n",
       "        vertical-align: middle;\n",
       "    }\n",
       "\n",
       "    .dataframe tbody tr th {\n",
       "        vertical-align: top;\n",
       "    }\n",
       "\n",
       "    .dataframe thead th {\n",
       "        text-align: right;\n",
       "    }\n",
       "</style>\n",
       "<table border=\"1\" class=\"dataframe\">\n",
       "  <thead>\n",
       "    <tr style=\"text-align: right;\">\n",
       "      <th></th>\n",
       "      <th>approach</th>\n",
       "      <th>dataset</th>\n",
       "      <th>result-size</th>\n",
       "      <th>bleu-score</th>\n",
       "      <th>missing-predictions</th>\n",
       "    </tr>\n",
       "  </thead>\n",
       "  <tbody>\n",
       "    <tr>\n",
       "      <th>0</th>\n",
       "      <td>clickbait-spoiling/princess-knight/express-pitch</td>\n",
       "      <td>task-2-spoiler-generation-validation-20220924-training</td>\n",
       "      <td>800</td>\n",
       "      <td>0.02111</td>\n",
       "      <td>0</td>\n",
       "    </tr>\n",
       "    <tr>\n",
       "      <th>1</th>\n",
       "      <td>clickbait-spoiling/princess-knight/express-pitch</td>\n",
       "      <td>task-2-spoiler-generation-validation-20220924-training</td>\n",
       "      <td>800</td>\n",
       "      <td>0.02111</td>\n",
       "      <td>0</td>\n",
       "    </tr>\n",
       "    <tr>\n",
       "      <th>2</th>\n",
       "      <td>clickbait-spoiling/princess-knight/express-pitch</td>\n",
       "      <td>task-2-spoiler-generation-validation-20220924-training</td>\n",
       "      <td>800</td>\n",
       "      <td>0.02111</td>\n",
       "      <td>0</td>\n",
       "    </tr>\n",
       "  </tbody>\n",
       "</table>\n",
       "</div>"
      ],
      "text/plain": [
       "                                           approach  \\\n",
       "0  clickbait-spoiling/princess-knight/express-pitch   \n",
       "1  clickbait-spoiling/princess-knight/express-pitch   \n",
       "2  clickbait-spoiling/princess-knight/express-pitch   \n",
       "\n",
       "                                                  dataset  result-size  \\\n",
       "0  task-2-spoiler-generation-validation-20220924-training  800           \n",
       "1  task-2-spoiler-generation-validation-20220924-training  800           \n",
       "2  task-2-spoiler-generation-validation-20220924-training  800           \n",
       "\n",
       "   bleu-score  missing-predictions  \n",
       "0  0.02111     0                    \n",
       "1  0.02111     0                    \n",
       "2  0.02111     0                    "
      ]
     },
     "execution_count": 2,
     "metadata": {},
     "output_type": "execute_result"
    }
   ],
   "source": [
    "tira.all_evaluated_appraoches()"
   ]
  },
  {
   "cell_type": "code",
   "execution_count": 3,
   "id": "f6e6ee7f-b178-4a58-bcc4-42e7e040ce6d",
   "metadata": {},
   "outputs": [
    {
     "data": {
      "text/html": [
       "<div>\n",
       "<style scoped>\n",
       "    .dataframe tbody tr th:only-of-type {\n",
       "        vertical-align: middle;\n",
       "    }\n",
       "\n",
       "    .dataframe tbody tr th {\n",
       "        vertical-align: top;\n",
       "    }\n",
       "\n",
       "    .dataframe thead th {\n",
       "        text-align: right;\n",
       "    }\n",
       "</style>\n",
       "<table border=\"1\" class=\"dataframe\">\n",
       "  <thead>\n",
       "    <tr style=\"text-align: right;\">\n",
       "      <th></th>\n",
       "      <th>uuid</th>\n",
       "      <th>spoiler</th>\n",
       "    </tr>\n",
       "  </thead>\n",
       "  <tbody>\n",
       "    <tr>\n",
       "      <th>0</th>\n",
       "      <td>example-1</td>\n",
       "      <td>This \"Star Wars\" Theory About Rey Is Insane</td>\n",
       "    </tr>\n",
       "    <tr>\n",
       "      <th>1</th>\n",
       "      <td>example-2</td>\n",
       "      <td>J.K. Rowling Has Revealed A Heartbreaking Truth About Hagrid</td>\n",
       "    </tr>\n",
       "  </tbody>\n",
       "</table>\n",
       "</div>"
      ],
      "text/plain": [
       "        uuid                                                       spoiler\n",
       "0  example-1  This \"Star Wars\" Theory About Rey Is Insane                 \n",
       "1  example-2  J.K. Rowling Has Revealed A Heartbreaking Truth About Hagrid"
      ]
     },
     "execution_count": 3,
     "metadata": {},
     "output_type": "execute_result"
    }
   ],
   "source": [
    "predictions, evaluation = tira.run('clickbait-spoiling/princess-knight/express-pitch', data=df, evaluate='task-2-spoiler-generation')\n",
    "\n",
    "predictions"
   ]
  },
  {
   "cell_type": "code",
   "execution_count": 4,
   "id": "95f2dd45-ce97-4db2-bb36-f3f1a1256d95",
   "metadata": {},
   "outputs": [
    {
     "data": {
      "text/html": [
       "<div>\n",
       "<style scoped>\n",
       "    .dataframe tbody tr th:only-of-type {\n",
       "        vertical-align: middle;\n",
       "    }\n",
       "\n",
       "    .dataframe tbody tr th {\n",
       "        vertical-align: top;\n",
       "    }\n",
       "\n",
       "    .dataframe thead th {\n",
       "        text-align: right;\n",
       "    }\n",
       "</style>\n",
       "<table border=\"1\" class=\"dataframe\">\n",
       "  <thead>\n",
       "    <tr style=\"text-align: right;\">\n",
       "      <th></th>\n",
       "      <th>approach</th>\n",
       "      <th>evaluate</th>\n",
       "      <th>result-size</th>\n",
       "      <th>bleu-score</th>\n",
       "      <th>missing-predictions</th>\n",
       "    </tr>\n",
       "  </thead>\n",
       "  <tbody>\n",
       "    <tr>\n",
       "      <th>0</th>\n",
       "      <td>clickbait-spoiling/princess-knight/express-pitch</td>\n",
       "      <td>task-2-spoiler-generation-validation-20220924-training</td>\n",
       "      <td>2</td>\n",
       "      <td>5.122457e-232</td>\n",
       "      <td>0</td>\n",
       "    </tr>\n",
       "  </tbody>\n",
       "</table>\n",
       "</div>"
      ],
      "text/plain": [
       "                                           approach  \\\n",
       "0  clickbait-spoiling/princess-knight/express-pitch   \n",
       "\n",
       "                                                 evaluate  result-size  \\\n",
       "0  task-2-spoiler-generation-validation-20220924-training  2             \n",
       "\n",
       "      bleu-score  missing-predictions  \n",
       "0  5.122457e-232  0                    "
      ]
     },
     "execution_count": 4,
     "metadata": {},
     "output_type": "execute_result"
    }
   ],
   "source": [
    "evaluation"
   ]
  },
  {
   "cell_type": "code",
   "execution_count": 5,
   "id": "73b989db-4364-4156-b801-6c6385527da7",
   "metadata": {},
   "outputs": [
    {
     "ename": "FileNotFoundError",
     "evalue": "[Errno 2] No such file or directory: 'task-2-spoiler-generation-validation-20220924-training/training-datasets'",
     "output_type": "error",
     "traceback": [
      "\u001b[0;31m---------------------------------------------------------------------------\u001b[0m",
      "\u001b[0;31mFileNotFoundError\u001b[0m                         Traceback (most recent call last)",
      "Cell \u001b[0;32mIn [5], line 1\u001b[0m\n\u001b[0;32m----> 1\u001b[0m predictions, evaluation \u001b[38;5;241m=\u001b[39m \u001b[43mtira\u001b[49m\u001b[38;5;241;43m.\u001b[39;49m\u001b[43mrun\u001b[49m\u001b[43m(\u001b[49m\n\u001b[1;32m      2\u001b[0m \u001b[43m    \u001b[49m\u001b[38;5;124;43m'\u001b[39;49m\u001b[38;5;124;43mclickbait-spoiling/princess-knight/express-pitch\u001b[39;49m\u001b[38;5;124;43m'\u001b[39;49m\u001b[43m,\u001b[49m\n\u001b[1;32m      3\u001b[0m \u001b[43m    \u001b[49m\u001b[43mdata\u001b[49m\u001b[38;5;241;43m=\u001b[39;49m\u001b[38;5;124;43m'\u001b[39;49m\u001b[38;5;124;43mtask-2-spoiler-generation-validation-20220924-training\u001b[39;49m\u001b[38;5;124;43m'\u001b[39;49m\u001b[43m,\u001b[49m\n\u001b[1;32m      4\u001b[0m \u001b[43m    \u001b[49m\u001b[43mevaluate\u001b[49m\u001b[38;5;241;43m=\u001b[39;49m\u001b[38;5;28;43;01mTrue\u001b[39;49;00m\n\u001b[1;32m      5\u001b[0m \u001b[43m)\u001b[49m\n",
      "File \u001b[0;32m~/workspace/pan-code/semeval23/baselines/naive-baseline-task-2/tira-git/tira.py:160\u001b[0m, in \u001b[0;36mrun\u001b[0;34m(identifier, image, command, data, evaluate, verbose)\u001b[0m\n\u001b[1;32m    157\u001b[0m \u001b[38;5;28;01mexcept\u001b[39;00m \u001b[38;5;167;01mException\u001b[39;00m \u001b[38;5;28;01mas\u001b[39;00m e:\n\u001b[1;32m    158\u001b[0m     \u001b[38;5;28;01mraise\u001b[39;00m \u001b[38;5;167;01mValueError\u001b[39;00m(\u001b[38;5;124m'\u001b[39m\u001b[38;5;124mIt seems like docker is not installed?\u001b[39m\u001b[38;5;124m'\u001b[39m, e)\n\u001b[0;32m--> 160\u001b[0m data_dir \u001b[38;5;241m=\u001b[39m \u001b[43mpersist_dataset\u001b[49m\u001b[43m(\u001b[49m\u001b[43mdata\u001b[49m\u001b[43m,\u001b[49m\u001b[43m \u001b[49m\u001b[43mverbose\u001b[49m\u001b[43m)\u001b[49m\n\u001b[1;32m    161\u001b[0m command \u001b[38;5;241m=\u001b[39m __normalize_command(command)\n\u001b[1;32m    163\u001b[0m \u001b[38;5;28;01mif\u001b[39;00m verbose:\n",
      "File \u001b[0;32m~/workspace/pan-code/semeval23/baselines/naive-baseline-task-2/tira-git/tira.py:143\u001b[0m, in \u001b[0;36mpersist_dataset\u001b[0;34m(data, verbose)\u001b[0m\n\u001b[1;32m    141\u001b[0m     shutil\u001b[38;5;241m.\u001b[39mcopytree(input_dir, tmp_dir \u001b[38;5;241m/\u001b[39m \u001b[38;5;124m'\u001b[39m\u001b[38;5;124minput_truth\u001b[39m\u001b[38;5;124m'\u001b[39m)\n\u001b[1;32m    142\u001b[0m \u001b[38;5;28;01melse\u001b[39;00m:\n\u001b[0;32m--> 143\u001b[0m     \u001b[43mshutil\u001b[49m\u001b[38;5;241;43m.\u001b[39;49m\u001b[43mcopytree\u001b[49m\u001b[43m(\u001b[49m\u001b[43mPath\u001b[49m\u001b[43m(\u001b[49m\u001b[43mdata\u001b[49m\u001b[43m)\u001b[49m\u001b[43m \u001b[49m\u001b[38;5;241;43m/\u001b[39;49m\u001b[43m \u001b[49m\u001b[38;5;124;43m'\u001b[39;49m\u001b[38;5;124;43mtraining-datasets\u001b[39;49m\u001b[38;5;124;43m'\u001b[39;49m\u001b[43m,\u001b[49m\u001b[43m \u001b[49m\u001b[43minput_dir\u001b[49m\u001b[43m)\u001b[49m\n\u001b[1;32m    144\u001b[0m     shutil\u001b[38;5;241m.\u001b[39mcopytree(Path(data) \u001b[38;5;241m/\u001b[39m \u001b[38;5;124m'\u001b[39m\u001b[38;5;124mtraining-datasets-truth\u001b[39m\u001b[38;5;124m'\u001b[39m, tmp_dir \u001b[38;5;241m/\u001b[39m \u001b[38;5;124m'\u001b[39m\u001b[38;5;124minput_truth\u001b[39m\u001b[38;5;124m'\u001b[39m)\n\u001b[1;32m    146\u001b[0m \u001b[38;5;28;01mreturn\u001b[39;00m tmp_dir\n",
      "File \u001b[0;32m/usr/lib/python3.10/shutil.py:556\u001b[0m, in \u001b[0;36mcopytree\u001b[0;34m(src, dst, symlinks, ignore, copy_function, ignore_dangling_symlinks, dirs_exist_ok)\u001b[0m\n\u001b[1;32m    517\u001b[0m \u001b[38;5;124;03m\"\"\"Recursively copy a directory tree and return the destination directory.\u001b[39;00m\n\u001b[1;32m    518\u001b[0m \n\u001b[1;32m    519\u001b[0m \u001b[38;5;124;03mIf exception(s) occur, an Error is raised with a list of reasons.\u001b[39;00m\n\u001b[0;32m   (...)\u001b[0m\n\u001b[1;32m    553\u001b[0m \u001b[38;5;124;03m`src` tree.\u001b[39;00m\n\u001b[1;32m    554\u001b[0m \u001b[38;5;124;03m\"\"\"\u001b[39;00m\n\u001b[1;32m    555\u001b[0m sys\u001b[38;5;241m.\u001b[39maudit(\u001b[38;5;124m\"\u001b[39m\u001b[38;5;124mshutil.copytree\u001b[39m\u001b[38;5;124m\"\u001b[39m, src, dst)\n\u001b[0;32m--> 556\u001b[0m \u001b[38;5;28;01mwith\u001b[39;00m \u001b[43mos\u001b[49m\u001b[38;5;241;43m.\u001b[39;49m\u001b[43mscandir\u001b[49m\u001b[43m(\u001b[49m\u001b[43msrc\u001b[49m\u001b[43m)\u001b[49m \u001b[38;5;28;01mas\u001b[39;00m itr:\n\u001b[1;32m    557\u001b[0m     entries \u001b[38;5;241m=\u001b[39m \u001b[38;5;28mlist\u001b[39m(itr)\n\u001b[1;32m    558\u001b[0m \u001b[38;5;28;01mreturn\u001b[39;00m _copytree(entries\u001b[38;5;241m=\u001b[39mentries, src\u001b[38;5;241m=\u001b[39msrc, dst\u001b[38;5;241m=\u001b[39mdst, symlinks\u001b[38;5;241m=\u001b[39msymlinks,\n\u001b[1;32m    559\u001b[0m                  ignore\u001b[38;5;241m=\u001b[39mignore, copy_function\u001b[38;5;241m=\u001b[39mcopy_function,\n\u001b[1;32m    560\u001b[0m                  ignore_dangling_symlinks\u001b[38;5;241m=\u001b[39mignore_dangling_symlinks,\n\u001b[1;32m    561\u001b[0m                  dirs_exist_ok\u001b[38;5;241m=\u001b[39mdirs_exist_ok)\n",
      "\u001b[0;31mFileNotFoundError\u001b[0m: [Errno 2] No such file or directory: 'task-2-spoiler-generation-validation-20220924-training/training-datasets'"
     ]
    }
   ],
   "source": [
    "predictions, evaluation = tira.run(\n",
    "    'clickbait-spoiling/princess-knight/express-pitch',\n",
    "    data='task-2-spoiler-generation-validation-20220924-training',\n",
    "    evaluate=True\n",
    ")"
   ]
  },
  {
   "cell_type": "code",
   "execution_count": 6,
   "id": "5e0e9b73-009c-4980-957f-db489ebc2ffe",
   "metadata": {},
   "outputs": [
    {
     "name": "stdout",
     "output_type": "stream",
     "text": [
      "princess-knight\n"
     ]
    }
   ],
   "source": [
    "!ls task-2-spoiler-generation-validation-20220924-training/"
   ]
  },
  {
   "cell_type": "code",
   "execution_count": 5,
   "id": "ed1c8122-c9a9-4779-823f-d94b190623e2",
   "metadata": {},
   "outputs": [
    {
     "name": "stdout",
     "output_type": "stream",
     "text": [
      "del-me-20220813-training\n",
      "docker-softwares\n",
      "Makefile\n",
      "__pycache__\n",
      "README.md\n",
      "requirements.txt\n",
      "src\n",
      "task-1-type-classification-validation-20220924-training\n",
      "task-2-spoiler-generation-validation-20220924-training\n",
      "tira-git\n",
      "tira.py\n",
      "Untitled.ipynb\n"
     ]
    }
   ],
   "source": []
  },
  {
   "cell_type": "code",
   "execution_count": 7,
   "id": "32e8d4fb-738c-4dca-a4a6-5c51bfb60d98",
   "metadata": {},
   "outputs": [
    {
     "name": "stdout",
     "output_type": "stream",
     "text": [
      "{\"TIRA_DATASET_ID\": \"task-2-spoiler-generation-validation-20220924-training\", \"TIRA_EVALUATION_IMAGE_TO_EXECUTE\": \"webis/pan-clickbait-spoiling-evaluator:0.0.6\", \"TIRA_EVALUATION_COMMAND_TO_EXECUTE\": \"bash -c '/clickbait-spoiling-eval.py --task 2 --ground_truth_spoiler $inputDataset --input_run $inputRun --output_prototext ${outputDir}/evaluation.prototext'\"}\n",
      "{\"TIRA_DATASET_ID\": \"task-2-spoiler-generation-validation-20220924-training\", \"TIRA_EVALUATION_IMAGE_TO_EXECUTE\": \"webis/pan-clickbait-spoiling-evaluator:0.0.9\", \"TIRA_EVALUATION_COMMAND_TO_EXECUTE\": \"bash -c '/clickbait-spoiling-eval.py --task 2 --ground_truth_spoiler $inputDataset --input_run $inputRun --output_prototext ${outputDir}/evaluation.prototext'\"}\n",
      "{\"TIRA_DATASET_ID\": \"del-me-20220813-training\", \"TIRA_EVALUATION_IMAGE_TO_EXECUTE\": \"webis/pan-clickbait-spoiling-evaluator:0.0.1\", \"TIRA_EVALUATION_COMMAND_TO_EXECUTE\": \"bash -c '/clickbait-spoiling-eval.py --task 1 --ground_truth_classes $inputDataset --input_run $inputRun --output_prototext ${outputDir}/evaluation.prototext'\"}\n",
      "{\"TIRA_DATASET_ID\": \"task-2-spoiler-generation-validation-20220924-training\", \"TIRA_EVALUATION_IMAGE_TO_EXECUTE\": \"webis/pan-clickbait-spoiling-evaluator:0.0.5\", \"TIRA_EVALUATION_COMMAND_TO_EXECUTE\": \"bash -c '/clickbait-spoiling-eval.py --task 2 --ground_truth_spoiler $inputDataset --input_run $inputRun --output_prototext ${outputDir}/evaluation.prototext'\"}\n",
      "{\"TIRA_DATASET_ID\": \"task-2-spoiler-generation-validation-20220924-training\", \"TIRA_EVALUATION_IMAGE_TO_EXECUTE\": \"webis/pan-clickbait-spoiling-evaluator:0.0.8\", \"TIRA_EVALUATION_COMMAND_TO_EXECUTE\": \"bash -c '/clickbait-spoiling-eval.py --task 2 --ground_truth_spoiler $inputDataset --input_run $inputRun --output_prototext ${outputDir}/evaluation.prototext'\"}\n",
      "{\"TIRA_DATASET_ID\": \"task-2-spoiler-generation-validation-20220924-training\", \"TIRA_EVALUATION_IMAGE_TO_EXECUTE\": \"webis/pan-clickbait-spoiling-evaluator:0.0.10\", \"TIRA_EVALUATION_COMMAND_TO_EXECUTE\": \"bash -c '/clickbait-spoiling-eval.py --task 2 --ground_truth_spoiler $inputDataset --input_run $inputRun --output_prototext ${outputDir}/evaluation.prototext'\"}\n",
      "{\"TIRA_DATASET_ID\": \"task-2-spoiler-generation-validation-20220924-training\", \"TIRA_EVALUATION_IMAGE_TO_EXECUTE\": \"webis/pan-clickbait-spoiling-evaluator:0.0.7\", \"TIRA_EVALUATION_COMMAND_TO_EXECUTE\": \"bash -c '/clickbait-spoiling-eval.py --task 2 --ground_truth_spoiler $inputDataset --input_run $inputRun --output_prototext ${outputDir}/evaluation.prototext'\"}\n",
      "{\"TIRA_DATASET_ID\": \"del-me-20220813-training\", \"TIRA_EVALUATION_IMAGE_TO_EXECUTE\": \"webis/pan-clickbait-spoiling-evaluator:0.0.3\", \"TIRA_EVALUATION_COMMAND_TO_EXECUTE\": \"bash -c '/clickbait-spoiling-eval.py --task 1 --ground_truth_classes $inputDataset --input_run $inputRun --output_prototext ${outputDir}/evaluation.prototext'\"}\n",
      "{\"TIRA_DATASET_ID\": \"task-1-type-classification-validation-20220924-training\", \"TIRA_EVALUATION_IMAGE_TO_EXECUTE\": \"webis/pan-clickbait-spoiling-evaluator:0.0.4\", \"TIRA_EVALUATION_COMMAND_TO_EXECUTE\": \"bash -c '/clickbait-spoiling-eval.py --task 1 --ground_truth_classes $inputDataset --input_run $inputRun --output_prototext ${outputDir}/evaluation.prototext'\"}\n",
      "{\"TIRA_DATASET_ID\": \"task-1-type-classification-validation-20220924-training\", \"TIRA_EVALUATION_IMAGE_TO_EXECUTE\": \"webis/pan-clickbait-spoiling-evaluator:0.0.5\", \"TIRA_EVALUATION_COMMAND_TO_EXECUTE\": \"bash -c '/clickbait-spoiling-eval.py --task 1 --ground_truth_classes $inputDataset --input_run $inputRun --output_prototext ${outputDir}/evaluation.prototext'\"}\n",
      "{\"TIRA_DATASET_ID\": \"task-1-type-classification-validation-20220924-training\", \"TIRA_EVALUATION_IMAGE_TO_EXECUTE\": \"webis/pan-clickbait-spoiling-evaluator:0.0.10\", \"TIRA_EVALUATION_COMMAND_TO_EXECUTE\": \"bash -c '/clickbait-spoiling-eval.py --task 1 --ground_truth_classes $inputDataset --input_run $inputRun --output_prototext ${outputDir}/evaluation.prototext'\"}\n",
      "{\"TIRA_DATASET_ID\": \"del-me-20220813-training\", \"TIRA_EVALUATION_IMAGE_TO_EXECUTE\": \"webis/pan-clickbait-spoiling-evaluator:0.0.1\", \"TIRA_EVALUATION_COMMAND_TO_EXECUTE\": \"bash -c '/clickbait-spoiling-eval.py --task 1 --input_run $inputRun --output_prototext $outputDir/evaluation.prototext'\"}"
     ]
    }
   ],
   "source": [
    "!cat .tira/evaluators.jsonl"
   ]
  },
  {
   "cell_type": "code",
   "execution_count": 9,
   "id": "2e17ef7f-1627-4aa7-bb43-bd3cae561aa7",
   "metadata": {},
   "outputs": [
    {
     "data": {
      "text/plain": [
       "True"
      ]
     },
     "execution_count": 9,
     "metadata": {},
     "output_type": "execute_result"
    }
   ],
   "source": [
    "from packaging import version\n",
    "version.parse(\"2.3.1\") < version.parse(\"10.1.2\")"
   ]
  }
 ],
 "metadata": {
  "kernelspec": {
   "display_name": "Python 3 (ipykernel)",
   "language": "python",
   "name": "python3"
  },
  "language_info": {
   "codemirror_mode": {
    "name": "ipython",
    "version": 3
   },
   "file_extension": ".py",
   "mimetype": "text/x-python",
   "name": "python",
   "nbconvert_exporter": "python",
   "pygments_lexer": "ipython3",
   "version": "3.10.7"
  }
 },
 "nbformat": 4,
 "nbformat_minor": 5
}
