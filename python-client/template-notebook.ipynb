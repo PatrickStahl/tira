{
 "cells": [
  {
   "cell_type": "markdown",
   "source": [
    "# Example Notebook"
   ],
   "metadata": {
    "collapsed": false,
    "pycharm": {
     "name": "#%% md\n"
    }
   }
  },
  {
   "cell_type": "markdown",
   "source": [
    "Setup model"
   ],
   "metadata": {
    "collapsed": false,
    "pycharm": {
     "name": "#%% md\n"
    }
   }
  },
  {
   "cell_type": "code",
   "execution_count": null,
   "outputs": [],
   "source": [
    "from typing import List\n",
    "import os\n",
    "import pandas as pd\n",
    "from tira.third_party_integrations import is_running_as_inference_server, get_input_directory_and_output_directory\n",
    "print(\"#Notebook# Initialized Test Server from Notebook\")"
   ],
   "metadata": {
    "collapsed": false,
    "pycharm": {
     "name": "#%%\n"
    }
   }
  },
  {
   "cell_type": "markdown",
   "source": [
    "Define `predict` function (necessary for inference server)"
   ],
   "metadata": {
    "collapsed": false
   }
  },
  {
   "cell_type": "code",
   "execution_count": null,
   "outputs": [],
   "source": [
    "def predict(input_list: List) -> List:\n",
    "    print(f\"#Notebook# Processing '{input_list}'\")\n",
    "    return input_list[::-1]"
   ],
   "metadata": {
    "collapsed": false,
    "pycharm": {
     "name": "#%%\n"
    }
   }
  },
  {
   "cell_type": "markdown",
   "source": [
    "Execution when run on TIRA (escaped when run as inference server)"
   ],
   "metadata": {
    "collapsed": false
   }
  },
  {
   "cell_type": "code",
   "execution_count": null,
   "outputs": [],
   "source": [
    "if not is_running_as_inference_server():\n",
    "    print(\"#Notebook# Running on TIRA\")\n",
    "    input_directory, output_directory = get_input_directory_and_output_directory('.')\n",
    "    # TODO: Create actual MVP using predict function\n",
    "    frame = pd.DataFrame([[\"Test\", 1]], columns=[\"Name\", \"ID\"])\n",
    "    frame.to_csv(os.path.join(output_directory, \"out.tsv\"), header=True, index=False, sep='\\t')"
   ],
   "metadata": {
    "collapsed": false,
    "pycharm": {
     "name": "#%%\n"
    }
   }
  },
  {
   "cell_type": "markdown",
   "source": [
    "if not is_running_as_inference_server():\n",
    "    print(\"#Notebook# Running on TIRA\")\n",
    "    input_directory, output_directory = get_input_directory_and_output_directory('.')\n",
    "    # TODO: Create actual MVP using predict function\n",
    "    frame = pd.DataFrame([[\"Test\", 1]], columns=[\"Name\", \"ID\"])\n",
    "    frame.to_csv(os.path.join(output_directory, \"out.tsv\"), header=True, index=False, sep='\\t')"
   ],
   "metadata": {
    "collapsed": false,
    "pycharm": {
     "name": "#%% md\n"
    }
   }
  },
  {
   "cell_type": "code",
   "source": [
    "def predict(input_list: List) -> List:\n",
    "    print(f\"#Notebook# Processing '{input_list}'\")\n",
    "    return input_list[::-1]"
   ],
   "metadata": {
    "collapsed": false,
    "pycharm": {
     "name": "#%%\n"
    }
   },
   "execution_count": null,
   "outputs": []
  },
  {
   "cell_type": "markdown",
   "source": [
    "Execution when run on TIRA (escaped when run as inference server)"
   ],
   "metadata": {
    "collapsed": false
   }
  },
  {
   "cell_type": "code",
   "execution_count": null,
   "outputs": [],
   "source": [
    "if not is_running_as_inference_server():\n",
    "    print(\"#Notebook# Running on TIRA\")\n",
    "    input_directory, output_directory = get_input_directory_and_output_directory('.')\n",
    "    # TODO: Create actual MVP using predict function\n",
    "    frame = pd.DataFrame([[\"Test\", 1]], columns=[\"Name\", \"ID\"])\n",
    "    frame.to_csv(os.path.join(output_directory, \"out.tsv\"), header=True, index=False, sep='\\t')"
   ],
   "metadata": {
    "collapsed": false,
    "pycharm": {
     "name": "#%%\n"
    }
   }
  }
 ],
 "metadata": {
  "kernelspec": {
   "display_name": "Python 3",
   "language": "python",
   "name": "python3"
  },
  "language_info": {
   "codemirror_mode": {
    "name": "ipython",
    "version": 2
   },
   "file_extension": ".py",
   "mimetype": "text/x-python",
   "name": "python",
   "nbconvert_exporter": "python",
   "pygments_lexer": "ipython2",
   "version": "2.7.6"
  }
 },
 "nbformat": 4,
 "nbformat_minor": 0
}